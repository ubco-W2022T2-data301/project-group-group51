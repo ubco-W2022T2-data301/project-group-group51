{
 "cells": [
  {
   "cell_type": "markdown",
   "id": "e6ec5956-afdf-4741-ae71-98623bdab0ac",
   "metadata": {},
   "source": [
    "Pipeline"
   ]
  },
  {
   "cell_type": "code",
   "execution_count": 6,
   "id": "54a619f8-6838-440e-8677-fcd9025f1631",
   "metadata": {},
   "outputs": [],
   "source": [
    "import pandas as pd\n",
    "import geopandas as gpd\n",
    "import matplotlib.pyplot as plt\n",
    "import seaborn as sns\n",
    "import numpy as np"
   ]
  },
  {
   "cell_type": "code",
   "execution_count": 5,
   "id": "fd37cd38-4874-42af-b2c1-7e623f5117d7",
   "metadata": {},
   "outputs": [],
   "source": [
    "airlinedata1=pd.read_csv('../data/raw/Airline_Data_Jan2021-Dec2021.csv')\n",
    "airlinedata2=pd.read_csv('../data/raw/airline_greviance_data_2021.csv')\n",
    "airlinedata3=pd.read_csv('../data/raw/airline_data_filtered.csv')\n",
    "##Airlinedata1, whole dataset without baggage and complaint data\n",
    "##Airlinedata2 - Baggage and complaint data etc.\n",
    "##Airlinedata3 removes all unnecessary columns etc."
   ]
  },
  {
   "cell_type": "markdown",
   "id": "3a67b76a-cd4a-43c2-8ffd-781c75c44f6e",
   "metadata": {},
   "source": [
    "Most of the data wrangling has already been done to create airlinedata3 dataset."
   ]
  },
  {
   "cell_type": "code",
   "execution_count": 8,
   "id": "0bd7b9cd-de25-4f2e-a73d-8c7231cfdf92",
   "metadata": {},
   "outputs": [],
   "source": [
    "airlinedata1['not_carrier_rltd']=airlinedata1['nas_delay']+airlinedata1['weather_delay']\n",
    "df1 = airlinedata1.groupby('carrier_name')['not_carrier_rltd'].sum().reset_index()\n",
    "airlinedata1['carrier_rltd']=airlinedata1['arr_cancelled']+airlinedata1['arr_diverted']+airlinedata1['arr_delay']+airlinedata1['carrier_delay']+airlinedata1['security_delay']+airlinedata1['late_aircraft_delay']\n",
    "df2=airlinedata1.groupby('carrier_name')['carrier_rltd'].sum().reset_index()\n",
    "df3 = airlinedata1.groupby('carrier_name')['arr_flights'].sum().reset_index()\n"
   ]
  },
  {
   "cell_type": "code",
   "execution_count": null,
   "id": "985dc53b-d05c-4ab2-ba9e-a9f56ad9efb9",
   "metadata": {},
   "outputs": [],
   "source": []
  }
 ],
 "metadata": {
  "kernelspec": {
   "display_name": "Python 3 (ipykernel)",
   "language": "python",
   "name": "python3"
  },
  "language_info": {
   "codemirror_mode": {
    "name": "ipython",
    "version": 3
   },
   "file_extension": ".py",
   "mimetype": "text/x-python",
   "name": "python",
   "nbconvert_exporter": "python",
   "pygments_lexer": "ipython3",
   "version": "3.10.8"
  }
 },
 "nbformat": 4,
 "nbformat_minor": 5
}
